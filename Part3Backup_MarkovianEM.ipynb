{
 "cells": [
  {
   "cell_type": "code",
   "execution_count": 1,
   "metadata": {
    "collapsed": true
   },
   "outputs": [],
   "source": [
    "import numpy as np\n",
    "import pandas as pd\n",
    "import scipy.stats as st\n",
    "from sklearn.ensemble import ExtraTreesRegressor\n",
    "from sklearn.linear_model import LinearRegression\n",
    "from sklearn.linear_model import Ridge\n",
    "from sklearn import linear_model as lm\n",
    "import math\n",
    "import matplotlib.pyplot as plt\n",
    "%matplotlib inline\n",
    "import operator\n",
    "from itertools import product\n",
    "from MarkovianEM import MarkovianEM"
   ]
  },
  {
   "cell_type": "code",
   "execution_count": 2,
   "metadata": {
    "collapsed": false
   },
   "outputs": [
    {
     "data": {
      "text/html": [
       "<div>\n",
       "<table border=\"1\" class=\"dataframe\">\n",
       "  <thead>\n",
       "    <tr style=\"text-align: right;\">\n",
       "      <th></th>\n",
       "      <th>Date</th>\n",
       "      <th>FED_Eff</th>\n",
       "      <th>Change</th>\n",
       "      <th>Periods</th>\n",
       "    </tr>\n",
       "  </thead>\n",
       "  <tbody>\n",
       "    <tr>\n",
       "      <th>0</th>\n",
       "      <td>1954-07-01</td>\n",
       "      <td>0.80</td>\n",
       "      <td>0.42</td>\n",
       "      <td>0.42</td>\n",
       "    </tr>\n",
       "    <tr>\n",
       "      <th>1</th>\n",
       "      <td>1954-08-01</td>\n",
       "      <td>1.22</td>\n",
       "      <td>-0.16</td>\n",
       "      <td>0.00</td>\n",
       "    </tr>\n",
       "    <tr>\n",
       "      <th>2</th>\n",
       "      <td>1954-09-01</td>\n",
       "      <td>1.06</td>\n",
       "      <td>-0.21</td>\n",
       "      <td>0.00</td>\n",
       "    </tr>\n",
       "    <tr>\n",
       "      <th>3</th>\n",
       "      <td>1954-10-01</td>\n",
       "      <td>0.85</td>\n",
       "      <td>-0.02</td>\n",
       "      <td>0.00</td>\n",
       "    </tr>\n",
       "    <tr>\n",
       "      <th>4</th>\n",
       "      <td>1954-11-01</td>\n",
       "      <td>0.83</td>\n",
       "      <td>0.45</td>\n",
       "      <td>0.45</td>\n",
       "    </tr>\n",
       "    <tr>\n",
       "      <th>5</th>\n",
       "      <td>1954-12-01</td>\n",
       "      <td>1.28</td>\n",
       "      <td>0.11</td>\n",
       "      <td>0.56</td>\n",
       "    </tr>\n",
       "    <tr>\n",
       "      <th>6</th>\n",
       "      <td>1955-01-01</td>\n",
       "      <td>1.39</td>\n",
       "      <td>-0.10</td>\n",
       "      <td>0.00</td>\n",
       "    </tr>\n",
       "    <tr>\n",
       "      <th>7</th>\n",
       "      <td>1955-02-01</td>\n",
       "      <td>1.29</td>\n",
       "      <td>0.06</td>\n",
       "      <td>0.06</td>\n",
       "    </tr>\n",
       "    <tr>\n",
       "      <th>8</th>\n",
       "      <td>1955-03-01</td>\n",
       "      <td>1.35</td>\n",
       "      <td>0.08</td>\n",
       "      <td>0.14</td>\n",
       "    </tr>\n",
       "    <tr>\n",
       "      <th>9</th>\n",
       "      <td>1955-04-01</td>\n",
       "      <td>1.43</td>\n",
       "      <td>0.00</td>\n",
       "      <td>0.14</td>\n",
       "    </tr>\n",
       "  </tbody>\n",
       "</table>\n",
       "</div>"
      ],
      "text/plain": [
       "        Date  FED_Eff  Change  Periods\n",
       "0 1954-07-01     0.80    0.42     0.42\n",
       "1 1954-08-01     1.22   -0.16     0.00\n",
       "2 1954-09-01     1.06   -0.21     0.00\n",
       "3 1954-10-01     0.85   -0.02     0.00\n",
       "4 1954-11-01     0.83    0.45     0.45\n",
       "5 1954-12-01     1.28    0.11     0.56\n",
       "6 1955-01-01     1.39   -0.10     0.00\n",
       "7 1955-02-01     1.29    0.06     0.06\n",
       "8 1955-03-01     1.35    0.08     0.14\n",
       "9 1955-04-01     1.43    0.00     0.14"
      ]
     },
     "execution_count": 2,
     "metadata": {},
     "output_type": "execute_result"
    }
   ],
   "source": [
    "file2 = pd.ExcelFile('InterestRateHikes.xlsx')\n",
    "data2 = file2.parse('FedRateHikes')\n",
    "data2.sort_values(by = ['Date'],ascending = [True])\n",
    "data2.head(10)"
   ]
  },
  {
   "cell_type": "code",
   "execution_count": 3,
   "metadata": {
    "collapsed": false,
    "scrolled": true
   },
   "outputs": [
    {
     "data": {
      "text/html": [
       "<div>\n",
       "<table border=\"1\" class=\"dataframe\">\n",
       "  <thead>\n",
       "    <tr style=\"text-align: right;\">\n",
       "      <th></th>\n",
       "      <th>Date</th>\n",
       "      <th>FED_Eff</th>\n",
       "      <th>logFED_Eff</th>\n",
       "      <th>Change</th>\n",
       "      <th>ChangePct</th>\n",
       "      <th>logChangePct</th>\n",
       "    </tr>\n",
       "  </thead>\n",
       "  <tbody>\n",
       "    <tr>\n",
       "      <th>0</th>\n",
       "      <td>1954-07-01</td>\n",
       "      <td>0.80</td>\n",
       "      <td>0.796817</td>\n",
       "      <td>0.869227</td>\n",
       "      <td>1.090874</td>\n",
       "      <td>0.737582</td>\n",
       "    </tr>\n",
       "    <tr>\n",
       "      <th>12</th>\n",
       "      <td>1955-07-01</td>\n",
       "      <td>1.68</td>\n",
       "      <td>1.666044</td>\n",
       "      <td>1.046823</td>\n",
       "      <td>0.628328</td>\n",
       "      <td>0.487554</td>\n",
       "    </tr>\n",
       "    <tr>\n",
       "      <th>24</th>\n",
       "      <td>1956-07-01</td>\n",
       "      <td>2.75</td>\n",
       "      <td>2.712867</td>\n",
       "      <td>0.233304</td>\n",
       "      <td>0.085999</td>\n",
       "      <td>0.082500</td>\n",
       "    </tr>\n",
       "    <tr>\n",
       "      <th>36</th>\n",
       "      <td>1957-07-01</td>\n",
       "      <td>2.99</td>\n",
       "      <td>2.946171</td>\n",
       "      <td>-2.268473</td>\n",
       "      <td>-0.769973</td>\n",
       "      <td>-1.469559</td>\n",
       "    </tr>\n",
       "    <tr>\n",
       "      <th>48</th>\n",
       "      <td>1958-07-01</td>\n",
       "      <td>0.68</td>\n",
       "      <td>0.677698</td>\n",
       "      <td>2.733455</td>\n",
       "      <td>4.033438</td>\n",
       "      <td>1.616103</td>\n",
       "    </tr>\n",
       "  </tbody>\n",
       "</table>\n",
       "</div>"
      ],
      "text/plain": [
       "         Date  FED_Eff  logFED_Eff    Change  ChangePct  logChangePct\n",
       "0  1954-07-01     0.80    0.796817  0.869227   1.090874      0.737582\n",
       "12 1955-07-01     1.68    1.666044  1.046823   0.628328      0.487554\n",
       "24 1956-07-01     2.75    2.712867  0.233304   0.085999      0.082500\n",
       "36 1957-07-01     2.99    2.946171 -2.268473  -0.769973     -1.469559\n",
       "48 1958-07-01     0.68    0.677698  2.733455   4.033438      1.616103"
      ]
     },
     "execution_count": 3,
     "metadata": {},
     "output_type": "execute_result"
    }
   ],
   "source": [
    "m = data2.loc[pd.notnull(data2.Change)].copy()\n",
    "\n",
    "p=12\n",
    "\n",
    "m = m.loc[range(0,m.shape[0],p),['Date','FED_Eff']]\n",
    "\n",
    "\n",
    "m['logFED_Eff'] = np.log(m['FED_Eff']/100+1)*100\n",
    "m['Change'] = m['logFED_Eff'].diff()\n",
    "m['Change'].values[0:-1] = m['Change'].values[1:]\n",
    "m['ChangePct'] = m['Change']/m['logFED_Eff']\n",
    "m['logChangePct'] = np.log(m['ChangePct']+1)\n",
    "m.head(5)"
   ]
  },
  {
   "cell_type": "code",
   "execution_count": 4,
   "metadata": {
    "collapsed": false
   },
   "outputs": [
    {
     "data": {
      "text/plain": [
       "(array([ 1.,  1.,  1.,  3.,  3.,  2.,  6.,  4.,  6.,  6.,  4.,  6.,  4.,\n",
       "         4.,  0.,  3.,  1.,  0.,  0.,  1.,  1.,  1.,  2.,  0.,  0.,  1.,\n",
       "         0.,  0.,  0.,  1.,  0.,  0.,  0.,  0.,  0.,  0.,  0.,  0.,  0.,\n",
       "         0.,  0.,  0.,  0.,  0.,  0.,  0.,  0.,  0.,  0.,  1.]),\n",
       " array([-0.91966491, -0.82060286, -0.7215408 , -0.62247874, -0.52341669,\n",
       "        -0.42435463, -0.32529257, -0.22623052, -0.12716846, -0.0281064 ,\n",
       "         0.07095565,  0.17001771,  0.26907977,  0.36814182,  0.46720388,\n",
       "         0.56626593,  0.66532799,  0.76439005,  0.8634521 ,  0.96251416,\n",
       "         1.06157622,  1.16063827,  1.25970033,  1.35876239,  1.45782444,\n",
       "         1.5568865 ,  1.65594856,  1.75501061,  1.85407267,  1.95313473,\n",
       "         2.05219678,  2.15125884,  2.2503209 ,  2.34938295,  2.44844501,\n",
       "         2.54750707,  2.64656912,  2.74563118,  2.84469324,  2.94375529,\n",
       "         3.04281735,  3.14187941,  3.24094146,  3.34000352,  3.43906558,\n",
       "         3.53812763,  3.63718969,  3.73625175,  3.8353138 ,  3.93437586,\n",
       "         4.03343792]),\n",
       " <a list of 50 Patch objects>)"
      ]
     },
     "execution_count": 4,
     "metadata": {},
     "output_type": "execute_result"
    },
    {
     "data": {
      "image/png": "[encoded data removed]",
      "text/plain": [
       "<matplotlib.figure.Figure at 0x7ff31454be80>"
      ]
     },
     "metadata": {},
     "output_type": "display_data"
    }
   ],
   "source": [
    "plt.hist(m.ChangePct,50)"
   ]
  },
  {
   "cell_type": "code",
   "execution_count": 13,
   "metadata": {
    "collapsed": false
   },
   "outputs": [
    {
     "name": "stdout",
     "output_type": "stream",
     "text": [
      "50.0%\n",
      "100.0%\n"
     ]
    }
   ],
   "source": [
    "df,MU, SIGMA, P, likelihoodList, rList= MarkovianEM(data = m, target = ['logFED_Eff','Change'], N_state = 4,itemax = 200)"
   ]
  },
  {
   "cell_type": "code",
   "execution_count": 14,
   "metadata": {
    "collapsed": false
   },
   "outputs": [
    {
     "data": {
      "text/plain": [
       "[<matplotlib.lines.Line2D at 0x7ff2e0609470>]"
      ]
     },
     "execution_count": 14,
     "metadata": {},
     "output_type": "execute_result"
    },
    {
     "data": {
      "image/png": "[encoded data removed]",
      "text/plain": [
       "<matplotlib.figure.Figure at 0x7ff2e079e128>"
      ]
     },
     "metadata": {},
     "output_type": "display_data"
    }
   ],
   "source": [
    "plt.plot(likelihoodList)"
   ]
  },
  {
   "cell_type": "code",
   "execution_count": 15,
   "metadata": {
    "collapsed": false
   },
   "outputs": [
    {
     "data": {
      "text/plain": [
       "array([[3.610, 0.110],\n",
       "       [6.877, 1.786],\n",
       "       [0.178, 0.086],\n",
       "       [9.105, -2.175]])"
      ]
     },
     "execution_count": 15,
     "metadata": {},
     "output_type": "execute_result"
    }
   ],
   "source": [
    "float_formatter = lambda x: \"%.3f\" % x\n",
    "np.set_printoptions(formatter={'float_kind':float_formatter})\n",
    "MU"
   ]
  },
  {
   "cell_type": "code",
   "execution_count": 16,
   "metadata": {
    "collapsed": false
   },
   "outputs": [
    {
     "data": {
      "text/plain": [
       "array([[3.610, 0.110],\n",
       "       [6.877, 1.786],\n",
       "       [0.178, 0.086],\n",
       "       [9.105, -2.175]])"
      ]
     },
     "execution_count": 16,
     "metadata": {},
     "output_type": "execute_result"
    }
   ],
   "source": [
    "MU"
   ]
  },
  {
   "cell_type": "code",
   "execution_count": 17,
   "metadata": {
    "collapsed": false,
    "scrolled": false
   },
   "outputs": [
    {
     "data": {
      "text/plain": [
       "<matplotlib.collections.PathCollection at 0x7ff2e05e7160>"
      ]
     },
     "execution_count": 17,
     "metadata": {},
     "output_type": "execute_result"
    },
    {
     "data": {
      "image/png": "[encoded data removed]",
      "text/plain": [
       "<matplotlib.figure.Figure at 0x7ff2e07eee10>"
      ]
     },
     "metadata": {},
     "output_type": "display_data"
    }
   ],
   "source": [
    "plt.scatter(MU[:,0],MU[:,1],c = range(len(rList)))"
   ]
  },
  {
   "cell_type": "code",
   "execution_count": 18,
   "metadata": {
    "collapsed": false
   },
   "outputs": [
    {
     "data": {
      "text/plain": [
       "<matplotlib.collections.PathCollection at 0x7ff2e05b0390>"
      ]
     },
     "execution_count": 18,
     "metadata": {},
     "output_type": "execute_result"
    },
    {
     "data": {
      "image/png": "[encoded data removed]",
      "text/plain": [
       "<matplotlib.figure.Figure at 0x7ff2e062f588>"
      ]
     },
     "metadata": {},
     "output_type": "display_data"
    }
   ],
   "source": [
    "pd.options.display.float_format = '{:20,.2f}'.format\n",
    "df['State'] = 'Stable'\n",
    "df['State'] = np.argmax(df[rList].values, axis=1)\n",
    "# colorList = np.dot(df[rList].values,np.array(range(len(rList))))\n",
    "\n",
    "plt.scatter(df[['logFED_Eff']].values,df[['Change']].values,c = df['State'].values)"
   ]
  },
  {
   "cell_type": "code",
   "execution_count": 19,
   "metadata": {
    "collapsed": false,
    "scrolled": true
   },
   "outputs": [
    {
     "data": {
      "text/plain": [
       "array([[0.826, 0.102, 0.031, 0.041],\n",
       "       [0.196, 0.304, 0.001, 0.499],\n",
       "       [0.032, 0.000, 0.965, 0.003],\n",
       "       [0.236, 0.401, 0.000, 0.363]])"
      ]
     },
     "execution_count": 19,
     "metadata": {},
     "output_type": "execute_result"
    }
   ],
   "source": [
    "P"
   ]
  },
  {
   "cell_type": "code",
   "execution_count": 89,
   "metadata": {
    "collapsed": false
   },
   "outputs": [
    {
     "name": "stdout",
     "output_type": "stream",
     "text": [
      "[[11.156 -0.501]\n",
      " [-0.501 0.078]]\n",
      "[[3.209 0.260]\n",
      " [0.260 0.313]]\n",
      "[[0.185 0.207]\n",
      " [0.207 1.534]]\n"
     ]
    }
   ],
   "source": [
    "for k in range(3):\n",
    "    print(SIGMA[k])"
   ]
  },
  {
   "cell_type": "code",
   "execution_count": 95,
   "metadata": {
    "collapsed": false,
    "scrolled": true
   },
   "outputs": [],
   "source": []
  },
  {
   "cell_type": "code",
   "execution_count": null,
   "metadata": {
    "collapsed": true
   },
   "outputs": [],
   "source": [
    "# for i in df.index:\n",
    "#     if df.loc[i,'r0'] == np.amax(df.loc[i,rList]):\n",
    "#         df.loc[i,'State'] = 'Rising'\n",
    "#     elif df.loc[i,'r1'] == np.amax(df.loc[i,rList]):\n",
    "#         df.loc[i,'State'] = 'Stable'\n",
    "#     else:\n",
    "#         df.loc[i,'State'] = 'Falling'"
   ]
  },
  {
   "cell_type": "code",
   "execution_count": 106,
   "metadata": {
    "collapsed": false,
    "scrolled": true
   },
   "outputs": [
    {
     "data": {
      "text/plain": [
       "[<matplotlib.lines.Line2D at 0x7fa712faaf28>]"
      ]
     },
     "execution_count": 106,
     "metadata": {},
     "output_type": "execute_result"
    },
    {
     "data": {
      "image/png": "[encoded data removed]",
      "text/plain": [
       "<matplotlib.figure.Figure at 0x7fa7130d5eb8>"
      ]
     },
     "metadata": {},
     "output_type": "display_data"
    }
   ],
   "source": [
    "plt.plot(df.Date,df.Change)"
   ]
  },
  {
   "cell_type": "code",
   "execution_count": 102,
   "metadata": {
    "collapsed": false
   },
   "outputs": [
    {
     "data": {
      "text/html": [
       "<div>\n",
       "<table border=\"1\" class=\"dataframe\">\n",
       "  <thead>\n",
       "    <tr style=\"text-align: right;\">\n",
       "      <th></th>\n",
       "      <th>Date</th>\n",
       "      <th>FED_Eff</th>\n",
       "      <th>logFED_Eff</th>\n",
       "      <th>Change</th>\n",
       "      <th>ChangePct</th>\n",
       "      <th>logChangePct</th>\n",
       "      <th>psi0</th>\n",
       "      <th>psi1</th>\n",
       "      <th>psi2</th>\n",
       "      <th>psi3</th>\n",
       "      <th>r0</th>\n",
       "      <th>r1</th>\n",
       "      <th>r2</th>\n",
       "      <th>r3</th>\n",
       "      <th>State</th>\n",
       "    </tr>\n",
       "  </thead>\n",
       "  <tbody>\n",
       "    <tr>\n",
       "      <th>300</th>\n",
       "      <td>1979-07-01</td>\n",
       "      <td>10.47</td>\n",
       "      <td>9.96</td>\n",
       "      <td>-1.31</td>\n",
       "      <td>-0.13</td>\n",
       "      <td>-0.14</td>\n",
       "      <td>0.18</td>\n",
       "      <td>0.00</td>\n",
       "      <td>0.00</td>\n",
       "      <td>0.00</td>\n",
       "      <td>1.00</td>\n",
       "      <td>0.00</td>\n",
       "      <td>0.00</td>\n",
       "      <td>0.00</td>\n",
       "      <td>0</td>\n",
       "    </tr>\n",
       "    <tr>\n",
       "      <th>312</th>\n",
       "      <td>1980-07-01</td>\n",
       "      <td>9.03</td>\n",
       "      <td>8.65</td>\n",
       "      <td>8.78</td>\n",
       "      <td>1.02</td>\n",
       "      <td>0.70</td>\n",
       "      <td>0.00</td>\n",
       "      <td>0.00</td>\n",
       "      <td>0.00</td>\n",
       "      <td>0.00</td>\n",
       "      <td>0.00</td>\n",
       "      <td>1.00</td>\n",
       "      <td>0.00</td>\n",
       "      <td>0.00</td>\n",
       "      <td>1</td>\n",
       "    </tr>\n",
       "    <tr>\n",
       "      <th>324</th>\n",
       "      <td>1981-07-01</td>\n",
       "      <td>19.04</td>\n",
       "      <td>17.43</td>\n",
       "      <td>-5.57</td>\n",
       "      <td>-0.32</td>\n",
       "      <td>-0.39</td>\n",
       "      <td>0.00</td>\n",
       "      <td>0.00</td>\n",
       "      <td>0.00</td>\n",
       "      <td>0.00</td>\n",
       "      <td>1.00</td>\n",
       "      <td>0.00</td>\n",
       "      <td>0.00</td>\n",
       "      <td>0.00</td>\n",
       "      <td>0</td>\n",
       "    </tr>\n",
       "    <tr>\n",
       "      <th>336</th>\n",
       "      <td>1982-07-01</td>\n",
       "      <td>12.59</td>\n",
       "      <td>11.86</td>\n",
       "      <td>-2.90</td>\n",
       "      <td>-0.24</td>\n",
       "      <td>-0.28</td>\n",
       "      <td>0.11</td>\n",
       "      <td>0.00</td>\n",
       "      <td>0.00</td>\n",
       "      <td>0.00</td>\n",
       "      <td>1.00</td>\n",
       "      <td>0.00</td>\n",
       "      <td>0.00</td>\n",
       "      <td>0.00</td>\n",
       "      <td>0</td>\n",
       "    </tr>\n",
       "  </tbody>\n",
       "</table>\n",
       "</div>"
      ],
      "text/plain": [
       "          Date              FED_Eff           logFED_Eff               Change  \\\n",
       "300 1979-07-01                10.47                 9.96                -1.31   \n",
       "312 1980-07-01                 9.03                 8.65                 8.78   \n",
       "324 1981-07-01                19.04                17.43                -5.57   \n",
       "336 1982-07-01                12.59                11.86                -2.90   \n",
       "\n",
       "               ChangePct         logChangePct                 psi0  \\\n",
       "300                -0.13                -0.14                 0.18   \n",
       "312                 1.02                 0.70                 0.00   \n",
       "324                -0.32                -0.39                 0.00   \n",
       "336                -0.24                -0.28                 0.11   \n",
       "\n",
       "                    psi1                 psi2                 psi3  \\\n",
       "300                 0.00                 0.00                 0.00   \n",
       "312                 0.00                 0.00                 0.00   \n",
       "324                 0.00                 0.00                 0.00   \n",
       "336                 0.00                 0.00                 0.00   \n",
       "\n",
       "                      r0                   r1                   r2  \\\n",
       "300                 1.00                 0.00                 0.00   \n",
       "312                 0.00                 1.00                 0.00   \n",
       "324                 1.00                 0.00                 0.00   \n",
       "336                 1.00                 0.00                 0.00   \n",
       "\n",
       "                      r3  State  \n",
       "300                 0.00      0  \n",
       "312                 0.00      1  \n",
       "324                 0.00      0  \n",
       "336                 0.00      0  "
      ]
     },
     "execution_count": 102,
     "metadata": {},
     "output_type": "execute_result"
    }
   ],
   "source": [
    "df.loc[np.logical_and(df.Date>'1979-01-01', df.Date<'1983-01-01')]"
   ]
  },
  {
   "cell_type": "code",
   "execution_count": 103,
   "metadata": {
    "collapsed": false
   },
   "outputs": [
    {
     "data": {
      "text/html": [
       "<div>\n",
       "<table border=\"1\" class=\"dataframe\">\n",
       "  <thead>\n",
       "    <tr style=\"text-align: right;\">\n",
       "      <th></th>\n",
       "      <th>Date</th>\n",
       "      <th>FED_Eff</th>\n",
       "      <th>logFED_Eff</th>\n",
       "      <th>Change</th>\n",
       "      <th>ChangePct</th>\n",
       "      <th>logChangePct</th>\n",
       "      <th>psi0</th>\n",
       "      <th>psi1</th>\n",
       "      <th>psi2</th>\n",
       "      <th>psi3</th>\n",
       "      <th>r0</th>\n",
       "      <th>r1</th>\n",
       "      <th>r2</th>\n",
       "      <th>r3</th>\n",
       "      <th>State</th>\n",
       "    </tr>\n",
       "  </thead>\n",
       "  <tbody>\n",
       "    <tr>\n",
       "      <th>0</th>\n",
       "      <td>1954-07-01</td>\n",
       "      <td>0.80</td>\n",
       "      <td>0.80</td>\n",
       "      <td>0.87</td>\n",
       "      <td>1.09</td>\n",
       "      <td>0.74</td>\n",
       "      <td>0.00</td>\n",
       "      <td>0.00</td>\n",
       "      <td>0.22</td>\n",
       "      <td>0.00</td>\n",
       "      <td>0.23</td>\n",
       "      <td>0.26</td>\n",
       "      <td>0.31</td>\n",
       "      <td>0.21</td>\n",
       "      <td>2</td>\n",
       "    </tr>\n",
       "    <tr>\n",
       "      <th>12</th>\n",
       "      <td>1955-07-01</td>\n",
       "      <td>1.68</td>\n",
       "      <td>1.67</td>\n",
       "      <td>1.05</td>\n",
       "      <td>0.63</td>\n",
       "      <td>0.49</td>\n",
       "      <td>0.01</td>\n",
       "      <td>0.03</td>\n",
       "      <td>0.00</td>\n",
       "      <td>0.00</td>\n",
       "      <td>0.13</td>\n",
       "      <td>0.84</td>\n",
       "      <td>0.03</td>\n",
       "      <td>0.00</td>\n",
       "      <td>1</td>\n",
       "    </tr>\n",
       "    <tr>\n",
       "      <th>24</th>\n",
       "      <td>1956-07-01</td>\n",
       "      <td>2.75</td>\n",
       "      <td>2.71</td>\n",
       "      <td>0.23</td>\n",
       "      <td>0.09</td>\n",
       "      <td>0.08</td>\n",
       "      <td>0.05</td>\n",
       "      <td>0.13</td>\n",
       "      <td>0.00</td>\n",
       "      <td>0.00</td>\n",
       "      <td>0.19</td>\n",
       "      <td>0.81</td>\n",
       "      <td>0.00</td>\n",
       "      <td>0.00</td>\n",
       "      <td>1</td>\n",
       "    </tr>\n",
       "    <tr>\n",
       "      <th>36</th>\n",
       "      <td>1957-07-01</td>\n",
       "      <td>2.99</td>\n",
       "      <td>2.95</td>\n",
       "      <td>-2.27</td>\n",
       "      <td>-0.77</td>\n",
       "      <td>-1.47</td>\n",
       "      <td>0.00</td>\n",
       "      <td>0.05</td>\n",
       "      <td>0.00</td>\n",
       "      <td>0.00</td>\n",
       "      <td>0.00</td>\n",
       "      <td>1.00</td>\n",
       "      <td>0.00</td>\n",
       "      <td>0.00</td>\n",
       "      <td>1</td>\n",
       "    </tr>\n",
       "    <tr>\n",
       "      <th>48</th>\n",
       "      <td>1958-07-01</td>\n",
       "      <td>0.68</td>\n",
       "      <td>0.68</td>\n",
       "      <td>2.73</td>\n",
       "      <td>4.03</td>\n",
       "      <td>1.62</td>\n",
       "      <td>0.00</td>\n",
       "      <td>0.00</td>\n",
       "      <td>0.01</td>\n",
       "      <td>0.00</td>\n",
       "      <td>0.00</td>\n",
       "      <td>0.00</td>\n",
       "      <td>1.00</td>\n",
       "      <td>0.00</td>\n",
       "      <td>2</td>\n",
       "    </tr>\n",
       "  </tbody>\n",
       "</table>\n",
       "</div>"
      ],
      "text/plain": [
       "         Date              FED_Eff           logFED_Eff               Change  \\\n",
       "0  1954-07-01                 0.80                 0.80                 0.87   \n",
       "12 1955-07-01                 1.68                 1.67                 1.05   \n",
       "24 1956-07-01                 2.75                 2.71                 0.23   \n",
       "36 1957-07-01                 2.99                 2.95                -2.27   \n",
       "48 1958-07-01                 0.68                 0.68                 2.73   \n",
       "\n",
       "              ChangePct         logChangePct                 psi0  \\\n",
       "0                  1.09                 0.74                 0.00   \n",
       "12                 0.63                 0.49                 0.01   \n",
       "24                 0.09                 0.08                 0.05   \n",
       "36                -0.77                -1.47                 0.00   \n",
       "48                 4.03                 1.62                 0.00   \n",
       "\n",
       "                   psi1                 psi2                 psi3  \\\n",
       "0                  0.00                 0.22                 0.00   \n",
       "12                 0.03                 0.00                 0.00   \n",
       "24                 0.13                 0.00                 0.00   \n",
       "36                 0.05                 0.00                 0.00   \n",
       "48                 0.00                 0.01                 0.00   \n",
       "\n",
       "                     r0                   r1                   r2  \\\n",
       "0                  0.23                 0.26                 0.31   \n",
       "12                 0.13                 0.84                 0.03   \n",
       "24                 0.19                 0.81                 0.00   \n",
       "36                 0.00                 1.00                 0.00   \n",
       "48                 0.00                 0.00                 1.00   \n",
       "\n",
       "                     r3  State  \n",
       "0                  0.21      2  \n",
       "12                 0.00      1  \n",
       "24                 0.00      1  \n",
       "36                 0.00      1  \n",
       "48                 0.00      2  "
      ]
     },
     "execution_count": 103,
     "metadata": {},
     "output_type": "execute_result"
    }
   ],
   "source": [
    "df.head(5)"
   ]
  }
 ],
 "metadata": {
  "anaconda-cloud": {},
  "kernelspec": {
   "display_name": "Python [conda root]",
   "language": "python",
   "name": "conda-root-py"
  },
  "language_info": {
   "codemirror_mode": {
    "name": "ipython",
    "version": 3
   },
   "file_extension": ".py",
   "mimetype": "text/x-python",
   "name": "python",
   "nbconvert_exporter": "python",
   "pygments_lexer": "ipython3",
   "version": "3.5.2"
  }
 },
 "nbformat": 4,
 "nbformat_minor": 1
}
