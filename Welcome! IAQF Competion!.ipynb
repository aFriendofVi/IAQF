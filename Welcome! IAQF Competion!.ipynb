{
 "cells": [
  {
   "cell_type": "markdown",
   "metadata": {},
   "source": [
    "# Welcome IAQF Competition Teammates!\n",
    "### This is an instance run on Amazon AWS where we can put our codes (python, R and Matlab later once I figure out how to) and other stuffs here and co-edit.\n",
    "========================================================================================================================\n",
    "\n",
    "> One can initial new files or folders on root. But don't forget to comment in the file and come up with a file name that is self-explaining."
   ]
  }
 ],
 "metadata": {
  "anaconda-cloud": {},
  "kernelspec": {
   "display_name": "Python [conda root]",
   "language": "python",
   "name": "conda-root-py"
  },
  "language_info": {
   "codemirror_mode": {
    "name": "ipython",
    "version": 3
   },
   "file_extension": ".py",
   "mimetype": "text/x-python",
   "name": "python",
   "nbconvert_exporter": "python",
   "pygments_lexer": "ipython3",
   "version": "3.5.2"
  }
 },
 "nbformat": 4,
 "nbformat_minor": 1
}
