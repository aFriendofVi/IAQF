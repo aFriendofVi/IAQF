{
 "cells": [
  {
   "cell_type": "code",
   "execution_count": 1,
   "metadata": {
    "collapsed": false
   },
   "outputs": [],
   "source": [
    "import numpy as np\n",
    "import pandas as pd\n",
    "import scipy.stats as st\n",
    "from sklearn.ensemble import ExtraTreesRegressor\n",
    "from sklearn.linear_model import LinearRegression\n",
    "from sklearn.linear_model import Ridge\n",
    "from sklearn import linear_model as lm\n",
    "import math\n",
    "import matplotlib.pyplot as plt\n",
    "%matplotlib inline\n",
    "import operator\n",
    "from itertools import product"
   ]
  },
  {
   "cell_type": "code",
   "execution_count": 10,
   "metadata": {
    "collapsed": false
   },
   "outputs": [
    {
     "data": {
      "text/html": [
       "<div>\n",
       "<table border=\"1\" class=\"dataframe\">\n",
       "  <thead>\n",
       "    <tr style=\"text-align: right;\">\n",
       "      <th></th>\n",
       "      <th>Date</th>\n",
       "      <th>CO</th>\n",
       "      <th>Wheat</th>\n",
       "      <th>SMAVG</th>\n",
       "      <th>Gold</th>\n",
       "      <th>USD/CNY</th>\n",
       "      <th>USD/EUR</th>\n",
       "      <th>USD/MYR</th>\n",
       "      <th>USD/AUD</th>\n",
       "      <th>USD/GBP</th>\n",
       "      <th>...</th>\n",
       "      <th>FTSE</th>\n",
       "      <th>DAX</th>\n",
       "      <th>SHA</th>\n",
       "      <th>TNX</th>\n",
       "      <th>USAgg</th>\n",
       "      <th>GlobalAgg</th>\n",
       "      <th>GlobalAggHY</th>\n",
       "      <th>JP10Y</th>\n",
       "      <th>FED</th>\n",
       "      <th>LIBOR1Y</th>\n",
       "    </tr>\n",
       "  </thead>\n",
       "  <tbody>\n",
       "    <tr>\n",
       "      <th>0</th>\n",
       "      <td>1914-01-01</td>\n",
       "      <td>NaN</td>\n",
       "      <td>NaN</td>\n",
       "      <td>NaN</td>\n",
       "      <td>NaN</td>\n",
       "      <td>NaN</td>\n",
       "      <td>NaN</td>\n",
       "      <td>NaN</td>\n",
       "      <td>NaN</td>\n",
       "      <td>NaN</td>\n",
       "      <td>...</td>\n",
       "      <td>NaN</td>\n",
       "      <td>NaN</td>\n",
       "      <td>NaN</td>\n",
       "      <td>NaN</td>\n",
       "      <td>NaN</td>\n",
       "      <td>NaN</td>\n",
       "      <td>NaN</td>\n",
       "      <td>NaN</td>\n",
       "      <td>NaN</td>\n",
       "      <td>NaN</td>\n",
       "    </tr>\n",
       "    <tr>\n",
       "      <th>1</th>\n",
       "      <td>1914-02-01</td>\n",
       "      <td>NaN</td>\n",
       "      <td>NaN</td>\n",
       "      <td>NaN</td>\n",
       "      <td>NaN</td>\n",
       "      <td>NaN</td>\n",
       "      <td>NaN</td>\n",
       "      <td>NaN</td>\n",
       "      <td>NaN</td>\n",
       "      <td>NaN</td>\n",
       "      <td>...</td>\n",
       "      <td>NaN</td>\n",
       "      <td>NaN</td>\n",
       "      <td>NaN</td>\n",
       "      <td>NaN</td>\n",
       "      <td>NaN</td>\n",
       "      <td>NaN</td>\n",
       "      <td>NaN</td>\n",
       "      <td>NaN</td>\n",
       "      <td>NaN</td>\n",
       "      <td>NaN</td>\n",
       "    </tr>\n",
       "    <tr>\n",
       "      <th>2</th>\n",
       "      <td>1914-03-01</td>\n",
       "      <td>NaN</td>\n",
       "      <td>NaN</td>\n",
       "      <td>NaN</td>\n",
       "      <td>NaN</td>\n",
       "      <td>NaN</td>\n",
       "      <td>NaN</td>\n",
       "      <td>NaN</td>\n",
       "      <td>NaN</td>\n",
       "      <td>NaN</td>\n",
       "      <td>...</td>\n",
       "      <td>NaN</td>\n",
       "      <td>NaN</td>\n",
       "      <td>NaN</td>\n",
       "      <td>NaN</td>\n",
       "      <td>NaN</td>\n",
       "      <td>NaN</td>\n",
       "      <td>NaN</td>\n",
       "      <td>NaN</td>\n",
       "      <td>NaN</td>\n",
       "      <td>NaN</td>\n",
       "    </tr>\n",
       "    <tr>\n",
       "      <th>3</th>\n",
       "      <td>1914-04-01</td>\n",
       "      <td>NaN</td>\n",
       "      <td>NaN</td>\n",
       "      <td>NaN</td>\n",
       "      <td>NaN</td>\n",
       "      <td>NaN</td>\n",
       "      <td>NaN</td>\n",
       "      <td>NaN</td>\n",
       "      <td>NaN</td>\n",
       "      <td>NaN</td>\n",
       "      <td>...</td>\n",
       "      <td>NaN</td>\n",
       "      <td>NaN</td>\n",
       "      <td>NaN</td>\n",
       "      <td>NaN</td>\n",
       "      <td>NaN</td>\n",
       "      <td>NaN</td>\n",
       "      <td>NaN</td>\n",
       "      <td>NaN</td>\n",
       "      <td>NaN</td>\n",
       "      <td>NaN</td>\n",
       "    </tr>\n",
       "    <tr>\n",
       "      <th>4</th>\n",
       "      <td>1914-05-01</td>\n",
       "      <td>NaN</td>\n",
       "      <td>NaN</td>\n",
       "      <td>NaN</td>\n",
       "      <td>NaN</td>\n",
       "      <td>NaN</td>\n",
       "      <td>NaN</td>\n",
       "      <td>NaN</td>\n",
       "      <td>NaN</td>\n",
       "      <td>NaN</td>\n",
       "      <td>...</td>\n",
       "      <td>NaN</td>\n",
       "      <td>NaN</td>\n",
       "      <td>NaN</td>\n",
       "      <td>NaN</td>\n",
       "      <td>NaN</td>\n",
       "      <td>NaN</td>\n",
       "      <td>NaN</td>\n",
       "      <td>NaN</td>\n",
       "      <td>NaN</td>\n",
       "      <td>NaN</td>\n",
       "    </tr>\n",
       "  </tbody>\n",
       "</table>\n",
       "<p>5 rows × 38 columns</p>\n",
       "</div>"
      ],
      "text/plain": [
       "        Date  CO  Wheat  SMAVG  Gold  USD/CNY  USD/EUR  USD/MYR  USD/AUD  \\\n",
       "0 1914-01-01 NaN    NaN    NaN   NaN      NaN      NaN      NaN      NaN   \n",
       "1 1914-02-01 NaN    NaN    NaN   NaN      NaN      NaN      NaN      NaN   \n",
       "2 1914-03-01 NaN    NaN    NaN   NaN      NaN      NaN      NaN      NaN   \n",
       "3 1914-04-01 NaN    NaN    NaN   NaN      NaN      NaN      NaN      NaN   \n",
       "4 1914-05-01 NaN    NaN    NaN   NaN      NaN      NaN      NaN      NaN   \n",
       "\n",
       "   USD/GBP   ...     FTSE  DAX  SHA  TNX  USAgg  GlobalAgg  GlobalAggHY  \\\n",
       "0      NaN   ...      NaN  NaN  NaN  NaN    NaN        NaN          NaN   \n",
       "1      NaN   ...      NaN  NaN  NaN  NaN    NaN        NaN          NaN   \n",
       "2      NaN   ...      NaN  NaN  NaN  NaN    NaN        NaN          NaN   \n",
       "3      NaN   ...      NaN  NaN  NaN  NaN    NaN        NaN          NaN   \n",
       "4      NaN   ...      NaN  NaN  NaN  NaN    NaN        NaN          NaN   \n",
       "\n",
       "   JP10Y  FED  LIBOR1Y  \n",
       "0    NaN  NaN      NaN  \n",
       "1    NaN  NaN      NaN  \n",
       "2    NaN  NaN      NaN  \n",
       "3    NaN  NaN      NaN  \n",
       "4    NaN  NaN      NaN  \n",
       "\n",
       "[5 rows x 38 columns]"
      ]
     },
     "execution_count": 10,
     "metadata": {},
     "output_type": "execute_result"
    }
   ],
   "source": [
    "file = pd.ExcelFile('mergedData_v1.xlsx')\n",
    "\n",
    "data = file.parse('Sheet1')\n",
    "data.head()"
   ]
  },
  {
   "cell_type": "markdown",
   "metadata": {},
   "source": [
    "Since there are so many NAs from early days, let's try from the time when all products have data:"
   ]
  },
  {
   "cell_type": "code",
   "execution_count": 11,
   "metadata": {
    "collapsed": false
   },
   "outputs": [
    {
     "data": {
      "text/html": [
       "<div>\n",
       "<table border=\"1\" class=\"dataframe\">\n",
       "  <thead>\n",
       "    <tr style=\"text-align: right;\">\n",
       "      <th></th>\n",
       "      <th>Date</th>\n",
       "      <th>CO</th>\n",
       "      <th>Wheat</th>\n",
       "      <th>SMAVG</th>\n",
       "      <th>Gold</th>\n",
       "      <th>USD/CNY</th>\n",
       "      <th>USD/EUR</th>\n",
       "      <th>USD/MYR</th>\n",
       "      <th>USD/AUD</th>\n",
       "      <th>USD/GBP</th>\n",
       "      <th>...</th>\n",
       "      <th>FTSE</th>\n",
       "      <th>DAX</th>\n",
       "      <th>SHA</th>\n",
       "      <th>TNX</th>\n",
       "      <th>USAgg</th>\n",
       "      <th>GlobalAgg</th>\n",
       "      <th>GlobalAggHY</th>\n",
       "      <th>JP10Y</th>\n",
       "      <th>FED</th>\n",
       "      <th>LIBOR1Y</th>\n",
       "    </tr>\n",
       "  </thead>\n",
       "  <tbody>\n",
       "    <tr>\n",
       "      <th>7730</th>\n",
       "      <td>2006-01-13</td>\n",
       "      <td>63.920000</td>\n",
       "      <td>384.000000</td>\n",
       "      <td>129.000000</td>\n",
       "      <td>557.350000</td>\n",
       "      <td>8.069333</td>\n",
       "      <td>0.823700</td>\n",
       "      <td>3.744880</td>\n",
       "      <td>1.326337</td>\n",
       "      <td>0.563617</td>\n",
       "      <td>...</td>\n",
       "      <td>5711.000000</td>\n",
       "      <td>5483.090000</td>\n",
       "      <td>1221.459000</td>\n",
       "      <td>4.353400</td>\n",
       "      <td>1244.440000</td>\n",
       "      <td>312.384000</td>\n",
       "      <td>520.070000</td>\n",
       "      <td>1.459000</td>\n",
       "      <td>4.25</td>\n",
       "      <td>4.846880</td>\n",
       "    </tr>\n",
       "    <tr>\n",
       "      <th>7731</th>\n",
       "      <td>2006-01-15</td>\n",
       "      <td>65.396667</td>\n",
       "      <td>381.833333</td>\n",
       "      <td>143.333333</td>\n",
       "      <td>556.400000</td>\n",
       "      <td>8.070000</td>\n",
       "      <td>0.824100</td>\n",
       "      <td>3.740790</td>\n",
       "      <td>1.325660</td>\n",
       "      <td>0.563090</td>\n",
       "      <td>...</td>\n",
       "      <td>5698.133333</td>\n",
       "      <td>5438.400000</td>\n",
       "      <td>1232.742000</td>\n",
       "      <td>4.352033</td>\n",
       "      <td>1244.653333</td>\n",
       "      <td>312.148100</td>\n",
       "      <td>520.493333</td>\n",
       "      <td>1.466000</td>\n",
       "      <td>4.27</td>\n",
       "      <td>4.844587</td>\n",
       "    </tr>\n",
       "    <tr>\n",
       "      <th>7732</th>\n",
       "      <td>2006-01-18</td>\n",
       "      <td>66.873333</td>\n",
       "      <td>379.666667</td>\n",
       "      <td>157.666667</td>\n",
       "      <td>555.450000</td>\n",
       "      <td>8.068333</td>\n",
       "      <td>0.825027</td>\n",
       "      <td>3.742953</td>\n",
       "      <td>1.330393</td>\n",
       "      <td>0.564410</td>\n",
       "      <td>...</td>\n",
       "      <td>5685.266667</td>\n",
       "      <td>5393.710000</td>\n",
       "      <td>1244.025000</td>\n",
       "      <td>4.350667</td>\n",
       "      <td>1244.866667</td>\n",
       "      <td>311.912200</td>\n",
       "      <td>520.916667</td>\n",
       "      <td>1.473000</td>\n",
       "      <td>4.29</td>\n",
       "      <td>4.842293</td>\n",
       "    </tr>\n",
       "    <tr>\n",
       "      <th>7733</th>\n",
       "      <td>2006-01-20</td>\n",
       "      <td>68.350000</td>\n",
       "      <td>377.500000</td>\n",
       "      <td>172.000000</td>\n",
       "      <td>554.500000</td>\n",
       "      <td>8.066667</td>\n",
       "      <td>0.825953</td>\n",
       "      <td>3.745117</td>\n",
       "      <td>1.335127</td>\n",
       "      <td>0.565730</td>\n",
       "      <td>...</td>\n",
       "      <td>5672.400000</td>\n",
       "      <td>5349.020000</td>\n",
       "      <td>1255.308000</td>\n",
       "      <td>4.349300</td>\n",
       "      <td>1245.080000</td>\n",
       "      <td>311.676300</td>\n",
       "      <td>521.340000</td>\n",
       "      <td>1.480000</td>\n",
       "      <td>4.28</td>\n",
       "      <td>4.840000</td>\n",
       "    </tr>\n",
       "    <tr>\n",
       "      <th>7734</th>\n",
       "      <td>2006-01-22</td>\n",
       "      <td>68.153333</td>\n",
       "      <td>383.000000</td>\n",
       "      <td>193.666667</td>\n",
       "      <td>556.166667</td>\n",
       "      <td>8.065000</td>\n",
       "      <td>0.826880</td>\n",
       "      <td>3.747280</td>\n",
       "      <td>1.339860</td>\n",
       "      <td>0.567050</td>\n",
       "      <td>...</td>\n",
       "      <td>5710.533333</td>\n",
       "      <td>5448.486667</td>\n",
       "      <td>1256.220667</td>\n",
       "      <td>4.402600</td>\n",
       "      <td>1242.883333</td>\n",
       "      <td>311.066833</td>\n",
       "      <td>522.066667</td>\n",
       "      <td>1.503333</td>\n",
       "      <td>4.27</td>\n",
       "      <td>4.865627</td>\n",
       "    </tr>\n",
       "  </tbody>\n",
       "</table>\n",
       "<p>5 rows × 38 columns</p>\n",
       "</div>"
      ],
      "text/plain": [
       "           Date         CO       Wheat       SMAVG        Gold   USD/CNY  \\\n",
       "7730 2006-01-13  63.920000  384.000000  129.000000  557.350000  8.069333   \n",
       "7731 2006-01-15  65.396667  381.833333  143.333333  556.400000  8.070000   \n",
       "7732 2006-01-18  66.873333  379.666667  157.666667  555.450000  8.068333   \n",
       "7733 2006-01-20  68.350000  377.500000  172.000000  554.500000  8.066667   \n",
       "7734 2006-01-22  68.153333  383.000000  193.666667  556.166667  8.065000   \n",
       "\n",
       "       USD/EUR   USD/MYR   USD/AUD   USD/GBP    ...            FTSE  \\\n",
       "7730  0.823700  3.744880  1.326337  0.563617    ...     5711.000000   \n",
       "7731  0.824100  3.740790  1.325660  0.563090    ...     5698.133333   \n",
       "7732  0.825027  3.742953  1.330393  0.564410    ...     5685.266667   \n",
       "7733  0.825953  3.745117  1.335127  0.565730    ...     5672.400000   \n",
       "7734  0.826880  3.747280  1.339860  0.567050    ...     5710.533333   \n",
       "\n",
       "              DAX          SHA       TNX        USAgg   GlobalAgg  \\\n",
       "7730  5483.090000  1221.459000  4.353400  1244.440000  312.384000   \n",
       "7731  5438.400000  1232.742000  4.352033  1244.653333  312.148100   \n",
       "7732  5393.710000  1244.025000  4.350667  1244.866667  311.912200   \n",
       "7733  5349.020000  1255.308000  4.349300  1245.080000  311.676300   \n",
       "7734  5448.486667  1256.220667  4.402600  1242.883333  311.066833   \n",
       "\n",
       "      GlobalAggHY     JP10Y   FED   LIBOR1Y  \n",
       "7730   520.070000  1.459000  4.25  4.846880  \n",
       "7731   520.493333  1.466000  4.27  4.844587  \n",
       "7732   520.916667  1.473000  4.29  4.842293  \n",
       "7733   521.340000  1.480000  4.28  4.840000  \n",
       "7734   522.066667  1.503333  4.27  4.865627  \n",
       "\n",
       "[5 rows x 38 columns]"
      ]
     },
     "execution_count": 11,
     "metadata": {},
     "output_type": "execute_result"
    }
   ],
   "source": [
    "S = data.loc[data.Date>='2006-01-13']\n",
    "S.head()"
   ]
  },
  {
   "cell_type": "code",
   "execution_count": 12,
   "metadata": {
    "collapsed": false
   },
   "outputs": [
    {
     "data": {
      "text/plain": [
       "Index(['Date', 'CO', 'Wheat', 'SMAVG', 'Gold', 'USD/CNY', 'USD/EUR', 'USD/MYR',\n",
       "       'USD/AUD', 'USD/GBP', 'USD/JPY', 'USD/BRL', 'USD/HKD', 'USD/MXN',\n",
       "       'USD/CAD', 'NZD', 'GDPGrowth', 'Inflation', 'MXEF', 'MXEA ', 'MSCI',\n",
       "       'SPX', 'RUI', 'RUT', 'RUA', 'NI225', 'SXXP', 'HSI', 'FTSE', 'DAX',\n",
       "       'SHA', 'TNX', 'USAgg', 'GlobalAgg', 'GlobalAggHY', 'JP10Y', 'FED',\n",
       "       'LIBOR1Y'],\n",
       "      dtype='object')"
      ]
     },
     "execution_count": 12,
     "metadata": {},
     "output_type": "execute_result"
    }
   ],
   "source": [
    "S.columns"
   ]
  },
  {
   "cell_type": "markdown",
   "metadata": {},
   "source": [
    "## Let's see how LIBOR impacts SPX (Univariate Model)"
   ]
  },
  {
   "cell_type": "code",
   "execution_count": 13,
   "metadata": {
    "collapsed": false
   },
   "outputs": [
    {
     "data": {
      "text/plain": [
       "LinearRegression(copy_X=True, fit_intercept=True, n_jobs=1, normalize=False)"
      ]
     },
     "execution_count": 13,
     "metadata": {},
     "output_type": "execute_result"
    }
   ],
   "source": [
    "lmModel = LinearRegression()\n",
    "IV = ['LIBOR1Y']\n",
    "DV = ['SPX']\n",
    "lmModel.fit(S[IV].values,S[DV].values)"
   ]
  },
  {
   "cell_type": "code",
   "execution_count": 14,
   "metadata": {
    "collapsed": false
   },
   "outputs": [
    {
     "data": {
      "text/plain": [
       "array([[-59.22000085]])"
      ]
     },
     "execution_count": 14,
     "metadata": {},
     "output_type": "execute_result"
    }
   ],
   "source": [
    "# Check coefficient\n",
    "lmModel.coef_"
   ]
  },
  {
   "cell_type": "code",
   "execution_count": 15,
   "metadata": {
    "collapsed": false
   },
   "outputs": [
    {
     "data": {
      "text/plain": [
       "6.744399905314113"
      ]
     },
     "execution_count": 15,
     "metadata": {},
     "output_type": "execute_result"
    }
   ],
   "source": [
    "# Check R square\n",
    "lmModel.score(S[IV].values,S[DV].values)*100"
   ]
  },
  {
   "cell_type": "markdown",
   "metadata": {},
   "source": [
    "## 6.8%... That is sad..."
   ]
  },
  {
   "cell_type": "code",
   "execution_count": 16,
   "metadata": {
    "collapsed": false
   },
   "outputs": [
    {
     "data": {
      "text/plain": [
       "['Indices list', 'FedRateHikes', 'HighestChanges']"
      ]
     },
     "execution_count": 16,
     "metadata": {},
     "output_type": "execute_result"
    }
   ],
   "source": [
    "file2 = pd.ExcelFile('InterestRateHikes.xlsx')\n",
    "file2.sheet_names"
   ]
  },
  {
   "cell_type": "code",
   "execution_count": 17,
   "metadata": {
    "collapsed": false
   },
   "outputs": [
    {
     "data": {
      "text/html": [
       "<div>\n",
       "<table border=\"1\" class=\"dataframe\">\n",
       "  <thead>\n",
       "    <tr style=\"text-align: right;\">\n",
       "      <th></th>\n",
       "      <th>Date</th>\n",
       "      <th>FED_Eff</th>\n",
       "      <th>Change</th>\n",
       "      <th>Periods</th>\n",
       "    </tr>\n",
       "  </thead>\n",
       "  <tbody>\n",
       "    <tr>\n",
       "      <th>0</th>\n",
       "      <td>1954-07-01</td>\n",
       "      <td>0.80</td>\n",
       "      <td>0.42</td>\n",
       "      <td>0.42</td>\n",
       "    </tr>\n",
       "    <tr>\n",
       "      <th>1</th>\n",
       "      <td>1954-08-01</td>\n",
       "      <td>1.22</td>\n",
       "      <td>-0.16</td>\n",
       "      <td>0.00</td>\n",
       "    </tr>\n",
       "    <tr>\n",
       "      <th>2</th>\n",
       "      <td>1954-09-01</td>\n",
       "      <td>1.06</td>\n",
       "      <td>-0.21</td>\n",
       "      <td>0.00</td>\n",
       "    </tr>\n",
       "    <tr>\n",
       "      <th>3</th>\n",
       "      <td>1954-10-01</td>\n",
       "      <td>0.85</td>\n",
       "      <td>-0.02</td>\n",
       "      <td>0.00</td>\n",
       "    </tr>\n",
       "    <tr>\n",
       "      <th>4</th>\n",
       "      <td>1954-11-01</td>\n",
       "      <td>0.83</td>\n",
       "      <td>0.45</td>\n",
       "      <td>0.45</td>\n",
       "    </tr>\n",
       "  </tbody>\n",
       "</table>\n",
       "</div>"
      ],
      "text/plain": [
       "        Date  FED_Eff  Change  Periods\n",
       "0 1954-07-01     0.80    0.42     0.42\n",
       "1 1954-08-01     1.22   -0.16     0.00\n",
       "2 1954-09-01     1.06   -0.21     0.00\n",
       "3 1954-10-01     0.85   -0.02     0.00\n",
       "4 1954-11-01     0.83    0.45     0.45"
      ]
     },
     "execution_count": 17,
     "metadata": {},
     "output_type": "execute_result"
    }
   ],
   "source": [
    "data2 = file2.parse('FedRateHikes')\n",
    "data2.head()"
   ]
  },
  {
   "cell_type": "code",
   "execution_count": 18,
   "metadata": {
    "collapsed": false
   },
   "outputs": [
    {
     "data": {
      "text/plain": [
       "[<matplotlib.lines.Line2D at 0x7f99dc2fb6d8>]"
      ]
     },
     "execution_count": 18,
     "metadata": {},
     "output_type": "execute_result"
    },
    {
     "data": {
      "image/png": "[encoded data removed]",
      "text/plain": [
       "<matplotlib.figure.Figure at 0x7f99dcb32e10>"
      ]
     },
     "metadata": {},
     "output_type": "display_data"
    }
   ],
   "source": [
    "plt.plot(data2.Date,data2.FED_Eff)\n",
    "plt.plot(data2.Date,data2.Periods)"
   ]
  },
  {
   "cell_type": "code",
   "execution_count": 19,
   "metadata": {
    "collapsed": false
   },
   "outputs": [
    {
     "data": {
      "text/plain": [
       "[<matplotlib.lines.Line2D at 0x7f99d95d5c18>]"
      ]
     },
     "execution_count": 19,
     "metadata": {},
     "output_type": "execute_result"
    },
    {
     "data": {
      "image/png": "[encoded data removed]",
      "text/plain": [
       "<matplotlib.figure.Figure at 0x7f99dcb3dfd0>"
      ]
     },
     "metadata": {},
     "output_type": "display_data"
    }
   ],
   "source": [
    "plt.plot(data.Date,data.FED)"
   ]
  },
  {
   "cell_type": "code",
   "execution_count": 20,
   "metadata": {
    "collapsed": false
   },
   "outputs": [],
   "source": [
    "interestC = pd.merge(data,data2,how = 'inner', on = ['Date'])[['Date','FED','FED_Eff']]"
   ]
  },
  {
   "cell_type": "code",
   "execution_count": 21,
   "metadata": {
    "collapsed": false
   },
   "outputs": [
    {
     "data": {
      "text/plain": [
       "[<matplotlib.lines.Line2D at 0x7f99d9573668>]"
      ]
     },
     "execution_count": 21,
     "metadata": {},
     "output_type": "execute_result"
    },
    {
     "data": {
      "image/png": "[encoded data removed]",
      "text/plain": [
       "<matplotlib.figure.Figure at 0x7f99d95d2518>"
      ]
     },
     "metadata": {},
     "output_type": "display_data"
    }
   ],
   "source": [
    "plt.plot(interestC.Date,interestC.FED)\n",
    "plt.plot(interestC.Date,interestC.FED_Eff)\n",
    "plt.plot(interestC.Date,interestC.FED-interestC.FED_Eff)"
   ]
  },
  {
   "cell_type": "code",
   "execution_count": 22,
   "metadata": {
    "collapsed": false,
    "scrolled": true
   },
   "outputs": [
    {
     "data": {
      "text/html": [
       "<div>\n",
       "<table border=\"1\" class=\"dataframe\">\n",
       "  <thead>\n",
       "    <tr style=\"text-align: right;\">\n",
       "      <th></th>\n",
       "      <th>Date</th>\n",
       "      <th>FED_Eff</th>\n",
       "      <th>Change</th>\n",
       "      <th>Periods</th>\n",
       "    </tr>\n",
       "  </thead>\n",
       "  <tbody>\n",
       "    <tr>\n",
       "      <th>0</th>\n",
       "      <td>1954-07-01</td>\n",
       "      <td>0.80</td>\n",
       "      <td>0.42</td>\n",
       "      <td>0.42</td>\n",
       "    </tr>\n",
       "    <tr>\n",
       "      <th>1</th>\n",
       "      <td>1954-08-01</td>\n",
       "      <td>1.22</td>\n",
       "      <td>-0.16</td>\n",
       "      <td>0.00</td>\n",
       "    </tr>\n",
       "    <tr>\n",
       "      <th>2</th>\n",
       "      <td>1954-09-01</td>\n",
       "      <td>1.06</td>\n",
       "      <td>-0.21</td>\n",
       "      <td>0.00</td>\n",
       "    </tr>\n",
       "    <tr>\n",
       "      <th>3</th>\n",
       "      <td>1954-10-01</td>\n",
       "      <td>0.85</td>\n",
       "      <td>-0.02</td>\n",
       "      <td>0.00</td>\n",
       "    </tr>\n",
       "    <tr>\n",
       "      <th>4</th>\n",
       "      <td>1954-11-01</td>\n",
       "      <td>0.83</td>\n",
       "      <td>0.45</td>\n",
       "      <td>0.45</td>\n",
       "    </tr>\n",
       "    <tr>\n",
       "      <th>5</th>\n",
       "      <td>1954-12-01</td>\n",
       "      <td>1.28</td>\n",
       "      <td>0.11</td>\n",
       "      <td>0.56</td>\n",
       "    </tr>\n",
       "    <tr>\n",
       "      <th>6</th>\n",
       "      <td>1955-01-01</td>\n",
       "      <td>1.39</td>\n",
       "      <td>-0.10</td>\n",
       "      <td>0.00</td>\n",
       "    </tr>\n",
       "    <tr>\n",
       "      <th>7</th>\n",
       "      <td>1955-02-01</td>\n",
       "      <td>1.29</td>\n",
       "      <td>0.06</td>\n",
       "      <td>0.06</td>\n",
       "    </tr>\n",
       "    <tr>\n",
       "      <th>8</th>\n",
       "      <td>1955-03-01</td>\n",
       "      <td>1.35</td>\n",
       "      <td>0.08</td>\n",
       "      <td>0.14</td>\n",
       "    </tr>\n",
       "    <tr>\n",
       "      <th>9</th>\n",
       "      <td>1955-04-01</td>\n",
       "      <td>1.43</td>\n",
       "      <td>0.00</td>\n",
       "      <td>0.14</td>\n",
       "    </tr>\n",
       "  </tbody>\n",
       "</table>\n",
       "</div>"
      ],
      "text/plain": [
       "        Date  FED_Eff  Change  Periods\n",
       "0 1954-07-01     0.80    0.42     0.42\n",
       "1 1954-08-01     1.22   -0.16     0.00\n",
       "2 1954-09-01     1.06   -0.21     0.00\n",
       "3 1954-10-01     0.85   -0.02     0.00\n",
       "4 1954-11-01     0.83    0.45     0.45\n",
       "5 1954-12-01     1.28    0.11     0.56\n",
       "6 1955-01-01     1.39   -0.10     0.00\n",
       "7 1955-02-01     1.29    0.06     0.06\n",
       "8 1955-03-01     1.35    0.08     0.14\n",
       "9 1955-04-01     1.43    0.00     0.14"
      ]
     },
     "execution_count": 22,
     "metadata": {},
     "output_type": "execute_result"
    }
   ],
   "source": [
    "data2.sort_values(by = ['Date'],ascending = [True])\n",
    "data2.head(10)"
   ]
  },
  {
   "cell_type": "code",
   "execution_count": 23,
   "metadata": {
    "collapsed": false
   },
   "outputs": [
    {
     "name": "stdout",
     "output_type": "stream",
     "text": [
      "[[-0.05]\n",
      " [ 0.  ]\n",
      " [ 0.05]]\n",
      "{0: array([[ 0.50916855]]), 1: array([[ 0.04015251]]), 2: array([[ 0.01996987]])}\n",
      "[[ 1.  0.  0.]\n",
      " [ 0.  1.  0.]\n",
      " [ 0.  0.  1.]]\n"
     ]
    }
   ],
   "source": [
    "target = ['Change']\n",
    "K = 3\n",
    "D = 1\n",
    "P = np.identity(K)\n",
    "MU = np.random.rand(K,D)\n",
    "MU = np.array([[-0.05],[0],[0.05]])\n",
    "SIGMA = {}\n",
    "for i in range(K):\n",
    "    aRandomMatrix = np.random.rand(D,D)\n",
    "    SIGMA[i] = np.dot(aRandomMatrix,aRandomMatrix.transpose())\n",
    "\n",
    "\n",
    "print(MU);print(SIGMA);print(P)"
   ]
  },
  {
   "cell_type": "code",
   "execution_count": 24,
   "metadata": {
    "collapsed": false,
    "scrolled": true
   },
   "outputs": [
    {
     "data": {
      "text/html": [
       "<div>\n",
       "<table border=\"1\" class=\"dataframe\">\n",
       "  <thead>\n",
       "    <tr style=\"text-align: right;\">\n",
       "      <th></th>\n",
       "      <th>Date</th>\n",
       "      <th>FED_Eff</th>\n",
       "      <th>Change</th>\n",
       "      <th>Periods</th>\n",
       "      <th>ChangeL1</th>\n",
       "    </tr>\n",
       "  </thead>\n",
       "  <tbody>\n",
       "    <tr>\n",
       "      <th>0</th>\n",
       "      <td>1954-07-01</td>\n",
       "      <td>0.80</td>\n",
       "      <td>0.42</td>\n",
       "      <td>0.42</td>\n",
       "      <td>0.00</td>\n",
       "    </tr>\n",
       "    <tr>\n",
       "      <th>1</th>\n",
       "      <td>1954-08-01</td>\n",
       "      <td>1.22</td>\n",
       "      <td>-0.16</td>\n",
       "      <td>0.00</td>\n",
       "      <td>0.42</td>\n",
       "    </tr>\n",
       "    <tr>\n",
       "      <th>2</th>\n",
       "      <td>1954-09-01</td>\n",
       "      <td>1.06</td>\n",
       "      <td>-0.21</td>\n",
       "      <td>0.00</td>\n",
       "      <td>-0.16</td>\n",
       "    </tr>\n",
       "    <tr>\n",
       "      <th>3</th>\n",
       "      <td>1954-10-01</td>\n",
       "      <td>0.85</td>\n",
       "      <td>-0.02</td>\n",
       "      <td>0.00</td>\n",
       "      <td>-0.21</td>\n",
       "    </tr>\n",
       "    <tr>\n",
       "      <th>4</th>\n",
       "      <td>1954-11-01</td>\n",
       "      <td>0.83</td>\n",
       "      <td>0.45</td>\n",
       "      <td>0.45</td>\n",
       "      <td>-0.02</td>\n",
       "    </tr>\n",
       "  </tbody>\n",
       "</table>\n",
       "</div>"
      ],
      "text/plain": [
       "        Date  FED_Eff  Change  Periods  ChangeL1\n",
       "0 1954-07-01     0.80    0.42     0.42      0.00\n",
       "1 1954-08-01     1.22   -0.16     0.00      0.42\n",
       "2 1954-09-01     1.06   -0.21     0.00     -0.16\n",
       "3 1954-10-01     0.85   -0.02     0.00     -0.21\n",
       "4 1954-11-01     0.83    0.45     0.45     -0.02"
      ]
     },
     "execution_count": 24,
     "metadata": {},
     "output_type": "execute_result"
    }
   ],
   "source": [
    "m = data2.loc[pd.notnull(data2.Change)].copy()\n",
    "m['ChangeL1'] = 0.00\n",
    "m['ChangeL1'].values[1:] = m.Change.values[0:-1]\n",
    "m.head()"
   ]
  },
  {
   "cell_type": "code",
   "execution_count": 25,
   "metadata": {
    "collapsed": false
   },
   "outputs": [
    {
     "name": "stdout",
     "output_type": "stream",
     "text": [
      "['psi0', 'psi1', 'psi2']\n",
      "['psi0L1', 'psi1L1', 'psi2L1']\n"
     ]
    }
   ],
   "source": [
    "psiList = [];\n",
    "for i in range(K):\n",
    "    label = 'psi'+str(i)\n",
    "    m[label] = 0.00\n",
    "    m[label] = st.multivariate_normal.pdf(m[['Change']].values,mean = MU[i,:],cov = SIGMA[i])\n",
    "#     m[label+'L1'] = 0.00\n",
    "#     m[label+'L1'].values[1:,] = m[label].values[0:-1]\n",
    "    psiList.append(label)\n",
    "    \n",
    "\n",
    "psiL1List = [x+'L1' for x in psiList]\n",
    "print(psiList)\n",
    "print(psiL1List)"
   ]
  },
  {
   "cell_type": "code",
   "execution_count": 26,
   "metadata": {
    "collapsed": false
   },
   "outputs": [],
   "source": [
    "rList = []\n",
    "for i in range(K):\n",
    "    m['r'+str(i)] = m['psi'+str(i)]/m[psiList].sum(axis = 1)\n",
    "    rList.append('r'+str(i))"
   ]
  },
  {
   "cell_type": "code",
   "execution_count": 27,
   "metadata": {
    "collapsed": false,
    "scrolled": true
   },
   "outputs": [
    {
     "data": {
      "text/html": [
       "<div>\n",
       "<table border=\"1\" class=\"dataframe\">\n",
       "  <thead>\n",
       "    <tr style=\"text-align: right;\">\n",
       "      <th></th>\n",
       "      <th>Date</th>\n",
       "      <th>FED_Eff</th>\n",
       "      <th>Change</th>\n",
       "      <th>Periods</th>\n",
       "      <th>ChangeL1</th>\n",
       "      <th>psi0</th>\n",
       "      <th>psi1</th>\n",
       "      <th>psi2</th>\n",
       "      <th>r0</th>\n",
       "      <th>r1</th>\n",
       "      <th>r2</th>\n",
       "    </tr>\n",
       "  </thead>\n",
       "  <tbody>\n",
       "    <tr>\n",
       "      <th>0</th>\n",
       "      <td>1954-07-01</td>\n",
       "      <td>0.80</td>\n",
       "      <td>0.42</td>\n",
       "      <td>0.42</td>\n",
       "      <td>0.00</td>\n",
       "      <td>0.450061</td>\n",
       "      <td>0.221346</td>\n",
       "      <td>0.091645</td>\n",
       "      <td>0.589817</td>\n",
       "      <td>0.290080</td>\n",
       "      <td>0.120103</td>\n",
       "    </tr>\n",
       "    <tr>\n",
       "      <th>1</th>\n",
       "      <td>1954-08-01</td>\n",
       "      <td>1.22</td>\n",
       "      <td>-0.16</td>\n",
       "      <td>0.00</td>\n",
       "      <td>0.42</td>\n",
       "      <td>0.552483</td>\n",
       "      <td>1.447463</td>\n",
       "      <td>0.935816</td>\n",
       "      <td>0.379734</td>\n",
       "      <td>0.489292</td>\n",
       "      <td>0.130974</td>\n",
       "    </tr>\n",
       "    <tr>\n",
       "      <th>2</th>\n",
       "      <td>1954-09-01</td>\n",
       "      <td>1.06</td>\n",
       "      <td>-0.21</td>\n",
       "      <td>0.00</td>\n",
       "      <td>-0.16</td>\n",
       "      <td>0.545207</td>\n",
       "      <td>1.149630</td>\n",
       "      <td>0.519586</td>\n",
       "      <td>0.122871</td>\n",
       "      <td>0.678787</td>\n",
       "      <td>0.198342</td>\n",
       "    </tr>\n",
       "    <tr>\n",
       "      <th>3</th>\n",
       "      <td>1954-10-01</td>\n",
       "      <td>0.85</td>\n",
       "      <td>-0.02</td>\n",
       "      <td>0.00</td>\n",
       "      <td>-0.21</td>\n",
       "      <td>0.558593</td>\n",
       "      <td>1.981027</td>\n",
       "      <td>2.497130</td>\n",
       "      <td>0.078503</td>\n",
       "      <td>0.587051</td>\n",
       "      <td>0.334446</td>\n",
       "    </tr>\n",
       "    <tr>\n",
       "      <th>4</th>\n",
       "      <td>1954-11-01</td>\n",
       "      <td>0.83</td>\n",
       "      <td>0.45</td>\n",
       "      <td>0.45</td>\n",
       "      <td>-0.02</td>\n",
       "      <td>0.437382</td>\n",
       "      <td>0.159927</td>\n",
       "      <td>0.051395</td>\n",
       "      <td>0.354352</td>\n",
       "      <td>0.459506</td>\n",
       "      <td>0.186142</td>\n",
       "    </tr>\n",
       "    <tr>\n",
       "      <th>5</th>\n",
       "      <td>1954-12-01</td>\n",
       "      <td>1.28</td>\n",
       "      <td>0.11</td>\n",
       "      <td>0.56</td>\n",
       "      <td>0.45</td>\n",
       "      <td>0.545207</td>\n",
       "      <td>1.712443</td>\n",
       "      <td>2.579746</td>\n",
       "      <td>0.369759</td>\n",
       "      <td>0.424653</td>\n",
       "      <td>0.205588</td>\n",
       "    </tr>\n",
       "    <tr>\n",
       "      <th>6</th>\n",
       "      <td>1955-01-01</td>\n",
       "      <td>1.39</td>\n",
       "      <td>-0.10</td>\n",
       "      <td>0.00</td>\n",
       "      <td>0.11</td>\n",
       "      <td>0.557716</td>\n",
       "      <td>1.757815</td>\n",
       "      <td>1.607175</td>\n",
       "      <td>0.040758</td>\n",
       "      <td>0.403488</td>\n",
       "      <td>0.555753</td>\n",
       "    </tr>\n",
       "    <tr>\n",
       "      <th>7</th>\n",
       "      <td>1955-02-01</td>\n",
       "      <td>1.29</td>\n",
       "      <td>0.06</td>\n",
       "      <td>0.06</td>\n",
       "      <td>-0.10</td>\n",
       "      <td>0.552483</td>\n",
       "      <td>1.903639</td>\n",
       "      <td>2.816016</td>\n",
       "      <td>0.037668</td>\n",
       "      <td>0.409066</td>\n",
       "      <td>0.553266</td>\n",
       "    </tr>\n",
       "    <tr>\n",
       "      <th>8</th>\n",
       "      <td>1955-03-01</td>\n",
       "      <td>1.35</td>\n",
       "      <td>0.08</td>\n",
       "      <td>0.14</td>\n",
       "      <td>0.06</td>\n",
       "      <td>0.549885</td>\n",
       "      <td>1.838409</td>\n",
       "      <td>2.760172</td>\n",
       "      <td>0.026244</td>\n",
       "      <td>0.302317</td>\n",
       "      <td>0.671439</td>\n",
       "    </tr>\n",
       "    <tr>\n",
       "      <th>9</th>\n",
       "      <td>1955-04-01</td>\n",
       "      <td>1.43</td>\n",
       "      <td>0.00</td>\n",
       "      <td>0.14</td>\n",
       "      <td>0.08</td>\n",
       "      <td>0.557716</td>\n",
       "      <td>1.990920</td>\n",
       "      <td>2.651784</td>\n",
       "      <td>0.027173</td>\n",
       "      <td>0.324301</td>\n",
       "      <td>0.648526</td>\n",
       "    </tr>\n",
       "  </tbody>\n",
       "</table>\n",
       "</div>"
      ],
      "text/plain": [
       "        Date  FED_Eff  Change  Periods  ChangeL1      psi0      psi1  \\\n",
       "0 1954-07-01     0.80    0.42     0.42      0.00  0.450061  0.221346   \n",
       "1 1954-08-01     1.22   -0.16     0.00      0.42  0.552483  1.447463   \n",
       "2 1954-09-01     1.06   -0.21     0.00     -0.16  0.545207  1.149630   \n",
       "3 1954-10-01     0.85   -0.02     0.00     -0.21  0.558593  1.981027   \n",
       "4 1954-11-01     0.83    0.45     0.45     -0.02  0.437382  0.159927   \n",
       "5 1954-12-01     1.28    0.11     0.56      0.45  0.545207  1.712443   \n",
       "6 1955-01-01     1.39   -0.10     0.00      0.11  0.557716  1.757815   \n",
       "7 1955-02-01     1.29    0.06     0.06     -0.10  0.552483  1.903639   \n",
       "8 1955-03-01     1.35    0.08     0.14      0.06  0.549885  1.838409   \n",
       "9 1955-04-01     1.43    0.00     0.14      0.08  0.557716  1.990920   \n",
       "\n",
       "       psi2        r0        r1        r2  \n",
       "0  0.091645  0.589817  0.290080  0.120103  \n",
       "1  0.935816  0.379734  0.489292  0.130974  \n",
       "2  0.519586  0.122871  0.678787  0.198342  \n",
       "3  2.497130  0.078503  0.587051  0.334446  \n",
       "4  0.051395  0.354352  0.459506  0.186142  \n",
       "5  2.579746  0.369759  0.424653  0.205588  \n",
       "6  1.607175  0.040758  0.403488  0.555753  \n",
       "7  2.816016  0.037668  0.409066  0.553266  \n",
       "8  2.760172  0.026244  0.302317  0.671439  \n",
       "9  2.651784  0.027173  0.324301  0.648526  "
      ]
     },
     "execution_count": 27,
     "metadata": {},
     "output_type": "execute_result"
    }
   ],
   "source": [
    "conditionalLikelihood = np.dot(m[rList].values[0:-1,],P)*m[psiList].values[1:]\n",
    "r = conditionalLikelihood/np.sum(conditionalLikelihood,axis =1)[:,np.newaxis]\n",
    "\n",
    "m.loc[1:,rList] = r\n",
    "m.head(10)"
   ]
  },
  {
   "cell_type": "code",
   "execution_count": 28,
   "metadata": {
    "collapsed": false
   },
   "outputs": [],
   "source": [
    "MU = np.dot(m[rList].values.transpose(),m[['Change']].values)/(np.sum(m[rList].values,axis=0)[:,np.newaxis])"
   ]
  },
  {
   "cell_type": "code",
   "execution_count": 29,
   "metadata": {
    "collapsed": false
   },
   "outputs": [
    {
     "data": {
      "text/plain": [
       "array([[-0.05852965],\n",
       "       [-0.00186256],\n",
       "       [ 0.04236928]])"
      ]
     },
     "execution_count": 29,
     "metadata": {},
     "output_type": "execute_result"
    }
   ],
   "source": [
    "MU"
   ]
  },
  {
   "cell_type": "code",
   "execution_count": 30,
   "metadata": {
    "collapsed": false
   },
   "outputs": [],
   "source": [
    "for i in range(K):\n",
    "    label = 'r'+str(i)\n",
    "    Q = np.diag(m[label]/np.sum(m[label]))\n",
    "    error = m[['Change']].values-MU[i]\n",
    "    SIGMA[i] = np.dot(np.squeeze(np.dot(Q,error).transpose()),np.squeeze(error))"
   ]
  },
  {
   "cell_type": "code",
   "execution_count": 31,
   "metadata": {
    "collapsed": false
   },
   "outputs": [
    {
     "data": {
      "text/plain": [
       "array([[ 0.62062784,  0.23222236,  0.1471498 ],\n",
       "       [ 0.18851554,  0.38771218,  0.42377228],\n",
       "       [ 0.10028309,  0.37432274,  0.52539418]])"
      ]
     },
     "execution_count": 31,
     "metadata": {},
     "output_type": "execute_result"
    }
   ],
   "source": [
    "for j,k in product(range(K),range(K)):\n",
    "    P[j,k] = np.sum(m[['r'+str(j)]].values[0:-1]*m[['r'+str(k)]].values[1:],axis = 0)/np.sum(m[['r'+str(j)]].values[0:-1],axis = 0)\n",
    "    \n",
    "P"
   ]
  },
  {
   "cell_type": "code",
   "execution_count": 32,
   "metadata": {
    "collapsed": true
   },
   "outputs": [],
   "source": [
    "for ite in range(1000):\n",
    "    for i in range(K):\n",
    "        label = 'psi'+str(i)\n",
    "        m[label] = 0.00\n",
    "        m[label] = st.multivariate_normal.pdf(m[['Change']].values,mean = MU[i,:],cov = SIGMA[i])\n",
    "        \n",
    "#     for i in range(K):\n",
    "#         m['r'+str(i)] = m['psi'+str(i)]/m[psiList].sum(axis = 1)\n",
    "\n",
    "    conditionalLikelihood = np.dot(m[rList].values[0:-1,],P)*m[psiList].values[1:]\n",
    "    r = conditionalLikelihood/np.sum(conditionalLikelihood,axis =1)[:,np.newaxis]\n",
    "\n",
    "    m.loc[1:,rList] = r\n",
    "\n",
    "    MU = np.dot(m[rList].values.transpose(),m[['Change']].values)/(np.sum(m[rList].values,axis=0)[:,np.newaxis])\n",
    "\n",
    "    for i in range(K):\n",
    "        label = 'r'+str(i)\n",
    "        Q = np.diag(m[label]/np.sum(m[label]))\n",
    "        error = m[['Change']].values-MU[i]\n",
    "        SIGMA[i] = np.dot(np.squeeze(np.dot(Q,error).transpose()),np.squeeze(error))\n",
    "\n",
    "    for j,k in product(range(K),range(K)):\n",
    "        P[j,k] = np.sum(m[['r'+str(j)]].values[0:-1]*m[['r'+str(k)]].values[1:],axis = 0)/np.sum(m[['r'+str(j)]].values[0:-1],axis = 0)"
   ]
  },
  {
   "cell_type": "code",
   "execution_count": 33,
   "metadata": {
    "collapsed": false,
    "scrolled": true
   },
   "outputs": [
    {
     "data": {
      "text/plain": [
       "{0: 2.080552702029808, 1: 0.079949975675829538, 2: 0.00086781834283269151}"
      ]
     },
     "execution_count": 33,
     "metadata": {},
     "output_type": "execute_result"
    }
   ],
   "source": [
    "SIGMA"
   ]
  },
  {
   "cell_type": "code",
   "execution_count": 34,
   "metadata": {
    "collapsed": false
   },
   "outputs": [
    {
     "data": {
      "text/plain": [
       "array([[ 0.44970402,  0.49374169,  0.05655429],\n",
       "       [ 0.08732808,  0.73169385,  0.18097807],\n",
       "       [ 0.0140714 ,  0.32937601,  0.6565526 ]])"
      ]
     },
     "execution_count": 34,
     "metadata": {},
     "output_type": "execute_result"
    }
   ],
   "source": [
    "P"
   ]
  },
  {
   "cell_type": "code",
   "execution_count": 35,
   "metadata": {
    "collapsed": false
   },
   "outputs": [
    {
     "data": {
      "text/plain": [
       "array([[-0.12111987],\n",
       "       [ 0.01840881],\n",
       "       [ 0.00438771]])"
      ]
     },
     "execution_count": 35,
     "metadata": {},
     "output_type": "execute_result"
    }
   ],
   "source": [
    "MU"
   ]
  },
  {
   "cell_type": "code",
   "execution_count": 36,
   "metadata": {
    "collapsed": true
   },
   "outputs": [],
   "source": [
    "m['State'] = 'Stable'\n",
    "for i in range(m.shape[0]):\n",
    "    if m.loc[i,'r0'] == np.amax(m.loc[i,rList]):\n",
    "        m.loc[i,'State'] = 'Rising'\n",
    "    elif m.loc[i,'r1'] == np.amax(m.loc[i,rList]):\n",
    "        m.loc[i,'State'] = 'Stable'\n",
    "    else:\n",
    "        m.loc[i,'State'] = 'Falling'"
   ]
  },
  {
   "cell_type": "code",
   "execution_count": 39,
   "metadata": {
    "collapsed": false
   },
   "outputs": [
    {
     "data": {
      "text/html": [
       "<div>\n",
       "<table border=\"1\" class=\"dataframe\">\n",
       "  <thead>\n",
       "    <tr style=\"text-align: right;\">\n",
       "      <th></th>\n",
       "      <th>Date</th>\n",
       "      <th>FED_Eff</th>\n",
       "      <th>Change</th>\n",
       "      <th>State</th>\n",
       "    </tr>\n",
       "  </thead>\n",
       "  <tbody>\n",
       "    <tr>\n",
       "      <th>402</th>\n",
       "      <td>1988-01-01</td>\n",
       "      <td>6.83</td>\n",
       "      <td>-0.25</td>\n",
       "      <td>Stable</td>\n",
       "    </tr>\n",
       "    <tr>\n",
       "      <th>403</th>\n",
       "      <td>1988-02-01</td>\n",
       "      <td>6.58</td>\n",
       "      <td>0.00</td>\n",
       "      <td>Falling</td>\n",
       "    </tr>\n",
       "    <tr>\n",
       "      <th>404</th>\n",
       "      <td>1988-03-01</td>\n",
       "      <td>6.58</td>\n",
       "      <td>0.29</td>\n",
       "      <td>Stable</td>\n",
       "    </tr>\n",
       "    <tr>\n",
       "      <th>405</th>\n",
       "      <td>1988-04-01</td>\n",
       "      <td>6.87</td>\n",
       "      <td>0.22</td>\n",
       "      <td>Stable</td>\n",
       "    </tr>\n",
       "    <tr>\n",
       "      <th>406</th>\n",
       "      <td>1988-05-01</td>\n",
       "      <td>7.09</td>\n",
       "      <td>0.42</td>\n",
       "      <td>Stable</td>\n",
       "    </tr>\n",
       "    <tr>\n",
       "      <th>407</th>\n",
       "      <td>1988-06-01</td>\n",
       "      <td>7.51</td>\n",
       "      <td>0.24</td>\n",
       "      <td>Stable</td>\n",
       "    </tr>\n",
       "    <tr>\n",
       "      <th>408</th>\n",
       "      <td>1988-07-01</td>\n",
       "      <td>7.75</td>\n",
       "      <td>0.26</td>\n",
       "      <td>Stable</td>\n",
       "    </tr>\n",
       "    <tr>\n",
       "      <th>409</th>\n",
       "      <td>1988-08-01</td>\n",
       "      <td>8.01</td>\n",
       "      <td>0.18</td>\n",
       "      <td>Stable</td>\n",
       "    </tr>\n",
       "    <tr>\n",
       "      <th>410</th>\n",
       "      <td>1988-09-01</td>\n",
       "      <td>8.19</td>\n",
       "      <td>0.11</td>\n",
       "      <td>Stable</td>\n",
       "    </tr>\n",
       "    <tr>\n",
       "      <th>411</th>\n",
       "      <td>1988-10-01</td>\n",
       "      <td>8.30</td>\n",
       "      <td>0.05</td>\n",
       "      <td>Stable</td>\n",
       "    </tr>\n",
       "    <tr>\n",
       "      <th>412</th>\n",
       "      <td>1988-11-01</td>\n",
       "      <td>8.35</td>\n",
       "      <td>0.41</td>\n",
       "      <td>Stable</td>\n",
       "    </tr>\n",
       "    <tr>\n",
       "      <th>413</th>\n",
       "      <td>1988-12-01</td>\n",
       "      <td>8.76</td>\n",
       "      <td>0.36</td>\n",
       "      <td>Stable</td>\n",
       "    </tr>\n",
       "    <tr>\n",
       "      <th>414</th>\n",
       "      <td>1989-01-01</td>\n",
       "      <td>9.12</td>\n",
       "      <td>0.24</td>\n",
       "      <td>Stable</td>\n",
       "    </tr>\n",
       "    <tr>\n",
       "      <th>415</th>\n",
       "      <td>1989-02-01</td>\n",
       "      <td>9.36</td>\n",
       "      <td>0.49</td>\n",
       "      <td>Stable</td>\n",
       "    </tr>\n",
       "    <tr>\n",
       "      <th>416</th>\n",
       "      <td>1989-03-01</td>\n",
       "      <td>9.85</td>\n",
       "      <td>-0.01</td>\n",
       "      <td>Falling</td>\n",
       "    </tr>\n",
       "    <tr>\n",
       "      <th>417</th>\n",
       "      <td>1989-04-01</td>\n",
       "      <td>9.84</td>\n",
       "      <td>-0.03</td>\n",
       "      <td>Falling</td>\n",
       "    </tr>\n",
       "    <tr>\n",
       "      <th>418</th>\n",
       "      <td>1989-05-01</td>\n",
       "      <td>9.81</td>\n",
       "      <td>-0.28</td>\n",
       "      <td>Stable</td>\n",
       "    </tr>\n",
       "    <tr>\n",
       "      <th>419</th>\n",
       "      <td>1989-06-01</td>\n",
       "      <td>9.53</td>\n",
       "      <td>-0.29</td>\n",
       "      <td>Stable</td>\n",
       "    </tr>\n",
       "    <tr>\n",
       "      <th>420</th>\n",
       "      <td>1989-07-01</td>\n",
       "      <td>9.24</td>\n",
       "      <td>-0.25</td>\n",
       "      <td>Stable</td>\n",
       "    </tr>\n",
       "    <tr>\n",
       "      <th>421</th>\n",
       "      <td>1989-08-01</td>\n",
       "      <td>8.99</td>\n",
       "      <td>0.03</td>\n",
       "      <td>Falling</td>\n",
       "    </tr>\n",
       "    <tr>\n",
       "      <th>422</th>\n",
       "      <td>1989-09-01</td>\n",
       "      <td>9.02</td>\n",
       "      <td>-0.18</td>\n",
       "      <td>Stable</td>\n",
       "    </tr>\n",
       "    <tr>\n",
       "      <th>423</th>\n",
       "      <td>1989-10-01</td>\n",
       "      <td>8.84</td>\n",
       "      <td>-0.29</td>\n",
       "      <td>Stable</td>\n",
       "    </tr>\n",
       "    <tr>\n",
       "      <th>424</th>\n",
       "      <td>1989-11-01</td>\n",
       "      <td>8.55</td>\n",
       "      <td>-0.10</td>\n",
       "      <td>Stable</td>\n",
       "    </tr>\n",
       "    <tr>\n",
       "      <th>425</th>\n",
       "      <td>1989-12-01</td>\n",
       "      <td>8.45</td>\n",
       "      <td>-0.22</td>\n",
       "      <td>Stable</td>\n",
       "    </tr>\n",
       "  </tbody>\n",
       "</table>\n",
       "</div>"
      ],
      "text/plain": [
       "          Date  FED_Eff  Change    State\n",
       "402 1988-01-01     6.83   -0.25   Stable\n",
       "403 1988-02-01     6.58    0.00  Falling\n",
       "404 1988-03-01     6.58    0.29   Stable\n",
       "405 1988-04-01     6.87    0.22   Stable\n",
       "406 1988-05-01     7.09    0.42   Stable\n",
       "407 1988-06-01     7.51    0.24   Stable\n",
       "408 1988-07-01     7.75    0.26   Stable\n",
       "409 1988-08-01     8.01    0.18   Stable\n",
       "410 1988-09-01     8.19    0.11   Stable\n",
       "411 1988-10-01     8.30    0.05   Stable\n",
       "412 1988-11-01     8.35    0.41   Stable\n",
       "413 1988-12-01     8.76    0.36   Stable\n",
       "414 1989-01-01     9.12    0.24   Stable\n",
       "415 1989-02-01     9.36    0.49   Stable\n",
       "416 1989-03-01     9.85   -0.01  Falling\n",
       "417 1989-04-01     9.84   -0.03  Falling\n",
       "418 1989-05-01     9.81   -0.28   Stable\n",
       "419 1989-06-01     9.53   -0.29   Stable\n",
       "420 1989-07-01     9.24   -0.25   Stable\n",
       "421 1989-08-01     8.99    0.03  Falling\n",
       "422 1989-09-01     9.02   -0.18   Stable\n",
       "423 1989-10-01     8.84   -0.29   Stable\n",
       "424 1989-11-01     8.55   -0.10   Stable\n",
       "425 1989-12-01     8.45   -0.22   Stable"
      ]
     },
     "execution_count": 39,
     "metadata": {},
     "output_type": "execute_result"
    }
   ],
   "source": [
    "# Change the year of beginning and ending here--------------\n",
    "begin_year = 1987\n",
    "end_year = 1989\n",
    "# Then press Ctrl+Enter-------------------------------------------------\n",
    "\n",
    "begin_year = str(begin_year)+'-12-01'\n",
    "end_year = str(end_year)+'-12-01'\n",
    "m.loc[np.logical_and(m.Date > begin_year, m.Date<=end_year),['Date','FED_Eff','Change','State']]"
   ]
  },
  {
   "cell_type": "code",
   "execution_count": null,
   "metadata": {
    "collapsed": true
   },
   "outputs": [],
   "source": []
  }
 ],
 "metadata": {
  "anaconda-cloud": {},
  "kernelspec": {
   "display_name": "Python [conda root]",
   "language": "python",
   "name": "conda-root-py"
  },
  "language_info": {
   "codemirror_mode": {
    "name": "ipython",
    "version": 3
   },
   "file_extension": ".py",
   "mimetype": "text/x-python",
   "name": "python",
   "nbconvert_exporter": "python",
   "pygments_lexer": "ipython3",
   "version": "3.5.2"
  }
 },
 "nbformat": 4,
 "nbformat_minor": 1
}
